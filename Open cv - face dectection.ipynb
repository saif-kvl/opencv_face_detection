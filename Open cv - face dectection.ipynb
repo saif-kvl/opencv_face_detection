{
 "cells": [
  {
   "cell_type": "code",
   "execution_count": 1,
   "id": "1a9160cb-4598-466a-a981-ec386d50deb4",
   "metadata": {},
   "outputs": [
    {
     "name": "stdout",
     "output_type": "stream",
     "text": [
      "Requirement already satisfied: opencv-python in c:\\users\\saif shaik\\anaconda3\\lib\\site-packages (4.12.0.88)\n",
      "Requirement already satisfied: numpy<2.3.0,>=2 in c:\\users\\saif shaik\\anaconda3\\lib\\site-packages (from opencv-python) (2.2.6)\n"
     ]
    }
   ],
   "source": [
    "!pip3 install opencv-python "
   ]
  },
  {
   "cell_type": "code",
   "execution_count": 2,
   "id": "a47ff967-0f95-4b02-a5f9-8c91ddd41f6b",
   "metadata": {},
   "outputs": [
    {
     "name": "stdout",
     "output_type": "stream",
     "text": [
      "['C:\\\\Users\\\\SAIF SHAIK', 'C:\\\\Users\\\\SAIF SHAIK\\\\anaconda3\\\\python312.zip', 'C:\\\\Users\\\\SAIF SHAIK\\\\anaconda3\\\\DLLs', 'C:\\\\Users\\\\SAIF SHAIK\\\\anaconda3\\\\Lib', 'C:\\\\Users\\\\SAIF SHAIK\\\\anaconda3', '', 'C:\\\\Users\\\\SAIF SHAIK\\\\anaconda3\\\\Lib\\\\site-packages', 'C:\\\\Users\\\\SAIF SHAIK\\\\anaconda3\\\\Lib\\\\site-packages\\\\win32', 'C:\\\\Users\\\\SAIF SHAIK\\\\anaconda3\\\\Lib\\\\site-packages\\\\win32\\\\lib', 'C:\\\\Users\\\\SAIF SHAIK\\\\anaconda3\\\\Lib\\\\site-packages\\\\Pythonwin', 'C:\\\\Users\\\\SAIF SHAIK\\\\anaconda3\\\\Lib\\\\site-packages\\\\setuptools\\\\_vendor']\n"
     ]
    }
   ],
   "source": [
    "\n",
    "import sys\n",
    "print(sys.path)"
   ]
  },
  {
   "cell_type": "code",
   "execution_count": null,
   "id": "364816f7-a509-4e3b-9c5d-fe62fd238c9e",
   "metadata": {},
   "outputs": [],
   "source": [
    "import cv2\n",
    "import numpy as np \n",
    "\n",
    "\n",
    "face_classifier = cv2.CascadeClassifier(r\"C:\\Users\\SAIF SHAIK\\Downloads\\haarcascade_frontalface_default.xml\")\n",
    "\n",
    "\n",
    "image = cv2.imread(r'C:\\Users\\SAIF SHAIK\\OneDrive\\Pictures\\Salman_Khan.jpg')\n",
    "gray = cv2.cvtColor(image, cv2.COLOR_BGR2GRAY)\n",
    "\n",
    "faces = face_classifier.detectMultiScale(gray, 1.3, 5)\n",
    "\n",
    "for (x,y,w,h) in faces:\n",
    "    cv2.rectangle(image, (x,y), (x+w,y+h), (127,0,255), 2)\n",
    "    cv2.imshow('Face Detection', image)\n",
    "    cv2.waitKey(0)\n",
    "\n",
    "\n",
    "cv2.destroyAllWindows()"
   ]
  },
  {
   "cell_type": "code",
   "execution_count": null,
   "id": "9d63ef96-a4ed-4fbe-8281-f324419ccad7",
   "metadata": {},
   "outputs": [],
   "source": []
  }
 ],
 "metadata": {
  "kernelspec": {
   "display_name": "Python 3 (ipykernel)",
   "language": "python",
   "name": "python3"
  },
  "language_info": {
   "codemirror_mode": {
    "name": "ipython",
    "version": 3
   },
   "file_extension": ".py",
   "mimetype": "text/x-python",
   "name": "python",
   "nbconvert_exporter": "python",
   "pygments_lexer": "ipython3",
   "version": "3.12.7"
  }
 },
 "nbformat": 4,
 "nbformat_minor": 5
}
